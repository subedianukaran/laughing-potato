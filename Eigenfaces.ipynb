{
 "cells": [
  {
   "cell_type": "code",
   "execution_count": 1,
   "id": "f9cb6ae9",
   "metadata": {},
   "outputs": [],
   "source": [
    "from glob import glob\n",
    "import os\n",
    "import numpy as np\n",
    "import cv2\n",
    "from time import time\n",
    "import matplotlib.pyplot as plt\n",
    "\n",
    "from sklearn.model_selection import train_test_split\n",
    "from sklearn.model_selection import GridSearchCV\n",
    "from sklearn.metrics import classification_report, confusion_matrix\n",
    "from sklearn.decomposition import PCA\n",
    "from sklearn.svm import SVC\n",
    "from sklearn.preprocessing import LabelEncoder\n",
    "from sklearn.metrics import accuracy_score, precision_score, recall_score, f1_score"
   ]
  },
  {
   "cell_type": "code",
   "execution_count": 3,
   "id": "77ed86ec",
   "metadata": {},
   "outputs": [
    {
     "name": "stdout",
     "output_type": "stream",
     "text": [
      "[]\n",
      "[]\n"
     ]
    }
   ],
   "source": [
    "\n",
    "# Specify the path to your dataset\n",
    "dataset_path = \"./training\"\n",
    "\n",
    "# Read images and labels from the dataset\n",
    "images = []\n",
    "labels = []\n",
    "\n",
    "# Define the desired dimensions for your images\n",
    "desired_width = 100\n",
    "desired_height = 100\n",
    "print(images)\n",
    "print(labels)"
   ]
  },
  {
   "cell_type": "code",
   "execution_count": 4,
   "id": "c803b703",
   "metadata": {},
   "outputs": [
    {
     "name": "stdout",
     "output_type": "stream",
     "text": [
      "[array([2, 2, 2, ..., 1, 1, 1], dtype=uint8), array([ 2,  0,  0, ..., 31, 52, 68], dtype=uint8), array([68, 86, 81, ..., 34, 22, 14], dtype=uint8), array([ 21,  14,  10, ..., 223, 223, 223], dtype=uint8), array([51, 44, 52, ..., 64, 71, 87], dtype=uint8), array([153, 156, 153, ...,  98,  86,  77], dtype=uint8), array([64, 72, 72, ..., 81, 61, 59], dtype=uint8), array([62, 73, 80, ..., 41, 41, 39], dtype=uint8), array([ 51,  69,  64, ..., 159, 160, 159], dtype=uint8), array([178, 179, 181, ..., 190, 189, 188], dtype=uint8), array([253, 253, 253, ...,  45,  45,  44], dtype=uint8), array([39, 44, 35, ..., 25, 21, 22], dtype=uint8), array([60, 57, 58, ..., 38, 45, 47], dtype=uint8), array([ 41,  40,  42, ..., 145, 127, 109], dtype=uint8), array([161, 153, 148, ...,  42,  40,  40], dtype=uint8), array([227, 228, 229, ...,  72,  20,  27], dtype=uint8), array([ 54,  50,  51, ..., 229, 233, 238], dtype=uint8), array([210, 210, 210, ...,  33,  33,  33], dtype=uint8), array([ 97,  96,  95, ..., 113,  90,  72], dtype=uint8), array([183, 189, 207, ..., 114, 127, 133], dtype=uint8), array([ 2,  2,  5, ..., 55, 57, 45], dtype=uint8), array([ 75,  66,  57, ..., 131, 133, 135], dtype=uint8), array([  2,   2,   2, ..., 143, 142, 138], dtype=uint8), array([173, 172, 172, ..., 189, 199, 196], dtype=uint8), array([33, 33, 33, ..., 29, 27, 26], dtype=uint8), array([119, 125, 123, ..., 122, 121, 119], dtype=uint8), array([147, 151, 154, ...,  77,  77,  76], dtype=uint8), array([132, 129, 129, ...,  84,  86,  76], dtype=uint8), array([64, 65, 65, ..., 19, 16, 15], dtype=uint8), array([162, 170, 173, ..., 169, 169, 168], dtype=uint8), array([125, 126, 127, ..., 180, 179, 169], dtype=uint8), array([49, 51, 46, ...,  6, 14, 15], dtype=uint8), array([86, 85, 90, ...,  6,  5,  1], dtype=uint8), array([ 1,  1,  1, ..., 23, 26, 28], dtype=uint8), array([ 52,  58,  56, ..., 193, 203, 201], dtype=uint8), array([ 15,  18,  17, ...,  14,  25, 227], dtype=uint8), array([ 51,  54,  48, ..., 190, 212, 178], dtype=uint8), array([223, 223, 223, ...,  51,  51,  50], dtype=uint8), array([ 11,  12,  13, ..., 102, 104,  93], dtype=uint8), array([ 62,  59,  58, ..., 130, 132, 109], dtype=uint8), array([87, 88, 89, ..., 73, 56, 58], dtype=uint8), array([219, 244, 253, ..., 253, 239, 247], dtype=uint8), array([124, 124, 124, ...,  39,  40,  42], dtype=uint8), array([62, 50, 41, ..., 70, 64, 60], dtype=uint8), array([245, 245, 245, ...,  64,  64,  60], dtype=uint8), array([ 44,  46,  49, ..., 238, 238, 238], dtype=uint8), array([ 86,  85,  80, ..., 115,  86, 115], dtype=uint8), array([138, 143, 154, ..., 101, 124, 108], dtype=uint8), array([ 40,  35,  34, ..., 139, 142, 186], dtype=uint8), array([103, 107, 122, ...,  65,  70,  72], dtype=uint8), array([12, 12, 11, ..., 34, 53, 68], dtype=uint8), array([74, 83, 77, ..., 53, 48, 50], dtype=uint8), array([ 37,  34,  48, ..., 166, 164, 155], dtype=uint8), array([ 25,  24,  23, ..., 207, 203, 200], dtype=uint8), array([183, 213, 212, ..., 218, 205, 215], dtype=uint8), array([58, 57, 43, ...,  5,  5, 13], dtype=uint8), array([148, 150, 153, ..., 207, 206, 207], dtype=uint8), array([85, 85, 83, ..., 45, 40, 35], dtype=uint8), array([ 12,   9,   5, ..., 143, 139, 134], dtype=uint8), array([216, 219, 220, ..., 210, 211, 214], dtype=uint8), array([59, 61, 56, ..., 28, 29, 29], dtype=uint8), array([21, 21, 21, ..., 26, 26, 18], dtype=uint8), array([35, 36, 37, ..., 39, 58, 52], dtype=uint8), array([32, 32, 34, ..., 49, 45, 46], dtype=uint8), array([47, 46, 46, ..., 49, 48, 44], dtype=uint8), array([224, 224, 224, ...,  51,  47,  50], dtype=uint8), array([137, 137, 142, ...,  58,  67,  38], dtype=uint8), array([111, 109,  94, ..., 183, 176,   2], dtype=uint8), array([47, 44, 33, ..., 13, 15, 15], dtype=uint8), array([221, 224, 221, ..., 138, 130, 146], dtype=uint8), array([112, 112, 112, ..., 124, 127, 133], dtype=uint8), array([28, 28, 29, ..., 15,  8,  5], dtype=uint8), array([  7,   7,   7, ..., 223, 234, 241], dtype=uint8), array([55, 56, 59, ..., 43, 28, 23], dtype=uint8), array([  6,   6,   6, ..., 255, 253, 252], dtype=uint8), array([ 94, 102, 100, ..., 153, 163, 168], dtype=uint8), array([237, 237, 236, ..., 118, 140, 141], dtype=uint8), array([5, 5, 5, ..., 7, 6, 6], dtype=uint8), array([181, 175, 199, ...,  43,  44,  44], dtype=uint8), array([155, 156, 156, ..., 148, 179, 166], dtype=uint8), array([87, 87, 87, ..., 15, 15, 15], dtype=uint8), array([164, 164, 164, ...,  26,  29,  30], dtype=uint8), array([215, 215, 215, ...,  43,  40,  94], dtype=uint8), array([97, 97, 97, ..., 13, 13, 13], dtype=uint8), array([101, 102, 105, ...,   0,   0,   0], dtype=uint8), array([ 34, 116, 117, ...,  12,  12,  12], dtype=uint8), array([ 65,  64,  63, ..., 147, 132, 102], dtype=uint8), array([207, 193, 165, ...,   1,   1,   1], dtype=uint8), array([21, 25, 29, ...,  7,  8,  7], dtype=uint8), array([206, 207, 142, ...,  10,   9,  10], dtype=uint8), array([204, 213, 211, ...,  22,  22,  14], dtype=uint8), array([  1,   1,   1, ..., 244, 244,   2], dtype=uint8), array([62, 61, 61, ...,  3,  3,  2], dtype=uint8), array([229, 227, 227, ...,  11,  15,  11], dtype=uint8), array([172, 172, 172, ...,  21,  20,  20], dtype=uint8), array([173, 149, 119, ...,  21,  20,  20], dtype=uint8), array([ 20,  20,  21, ..., 175, 161, 132], dtype=uint8), array([117, 126, 120, ...,  10,  10,   8], dtype=uint8), array([ 76,  77,  76, ..., 247, 248, 245], dtype=uint8), array([188, 188, 188, ..., 103,  88,  70], dtype=uint8), array([24, 23, 19, ...,  1,  2,  2], dtype=uint8), array([175, 175, 177, ...,  41,  43,  36], dtype=uint8), array([0, 0, 0, ..., 0, 0, 0], dtype=uint8), array([202, 196, 192, ..., 207, 204, 204], dtype=uint8), array([232, 232, 232, ...,   0,   0,   0], dtype=uint8), array([51, 49, 50, ..., 21, 33, 35], dtype=uint8), array([114, 114, 114, ...,  17,  16,  21], dtype=uint8), array([240, 236, 170, ...,  30,  30,  32], dtype=uint8), array([203, 203, 201, ..., 111,  96, 113], dtype=uint8), array([154, 154, 156, ..., 240, 225, 238], dtype=uint8), array([  7,   7,   7, ..., 113, 109,  69], dtype=uint8), array([176, 171, 160, ...,  10,  14,  16], dtype=uint8), array([ 80,  67, 123, ...,  20,  18,  19], dtype=uint8), array([61, 57, 55, ..., 99, 98, 99], dtype=uint8), array([73, 73, 73, ..., 13, 10, 12], dtype=uint8), array([ 0,  0,  0, ..., 77, 77, 77], dtype=uint8), array([154, 153, 154, ..., 238, 222, 241], dtype=uint8), array([65, 60, 53, ..., 25, 24, 23], dtype=uint8), array([64, 73, 77, ..., 11, 11, 11], dtype=uint8), array([35, 68, 99, ..., 47, 49, 34], dtype=uint8), array([187, 183, 176, ...,  36,  40,  55], dtype=uint8), array([ 87,  87,  88, ..., 105, 102, 103], dtype=uint8), array([68, 68, 70, ..., 36, 34, 34], dtype=uint8), array([99, 82, 13, ..., 24, 22, 23], dtype=uint8), array([87, 84, 85, ..., 37, 38, 36], dtype=uint8), array([215, 214, 215, ..., 242, 239, 241], dtype=uint8), array([239, 239, 239, ...,  44,  44,  44], dtype=uint8), array([199, 184, 179, ...,  22,  24,  25], dtype=uint8), array([104,  92,  77, ...,  32,  48,  49], dtype=uint8), array([ 2,  1,  1, ..., 28, 27, 29], dtype=uint8), array([105,  71,  50, ...,  17,  15,  15], dtype=uint8), array([220, 218, 217, ...,  51,  47,  48], dtype=uint8), array([144, 143, 129, ...,  20,  29,  35], dtype=uint8), array([221, 221, 221, ...,  49,  43,  40], dtype=uint8), array([104, 104, 104, ..., 105, 105, 105], dtype=uint8), array([143, 143, 143, ...,  15,  15,  15], dtype=uint8), array([ 0,  0,  0, ..., 12, 11, 11], dtype=uint8), array([ 69,  70,  69, ..., 222, 228, 238], dtype=uint8), array([ 0,  0,  0, ...,  9, 16, 11], dtype=uint8), array([ 7, 12, 16, ...,  7,  8,  9], dtype=uint8), array([ 59,  65,  55, ..., 135, 143, 134], dtype=uint8), array([22, 22, 22, ..., 65, 38, 51], dtype=uint8), array([107, 106, 106, ..., 248, 248, 248], dtype=uint8), array([239, 240, 240, ...,  93,  67,  37], dtype=uint8), array([59, 60, 63, ..., 84, 12, 21], dtype=uint8), array([216, 217, 217, ..., 145, 151, 158], dtype=uint8), array([ 32, 112, 157, ...,  14,  14,  14], dtype=uint8), array([143, 146, 143, ...,  21,  19,  20], dtype=uint8), array([202, 203, 207, ..., 255, 255, 255], dtype=uint8), array([227, 227, 227, ...,  24,  25,  27], dtype=uint8), array([ 5,  5,  4, ..., 15, 16, 15], dtype=uint8), array([132, 132, 132, ...,   9,  15,   7], dtype=uint8), array([32,  4,  9, ..., 96, 53, 45], dtype=uint8), array([162, 126, 125, ...,  16,  16,  16], dtype=uint8), array([168, 219, 175, ...,  50,  47,  40], dtype=uint8), array([ 59,  71, 133, ...,  29,  30,  29], dtype=uint8), array([114, 114, 114, ..., 161, 154, 161], dtype=uint8), array([228, 229, 228, ...,  28,  28,  28], dtype=uint8), array([120, 121, 122, ...,  55,  51,  51], dtype=uint8), array([13, 13, 13, ..., 34, 46, 49], dtype=uint8), array([13, 13, 13, ..., 11, 10, 10], dtype=uint8), array([ 33,  33,  33, ...,  75,  78, 107], dtype=uint8), array([74, 74, 74, ..., 72, 71, 71], dtype=uint8), array([168, 168, 168, ..., 144, 147, 150], dtype=uint8), array([125, 122, 122, ...,  97, 104,  99], dtype=uint8), array([151, 151, 150, ..., 140, 154, 150], dtype=uint8), array([152, 152, 152, ..., 153, 154, 153], dtype=uint8), array([ 2,  2,  2, ..., 73, 67, 62], dtype=uint8), array([ 8,  7, 14, ..., 12, 12, 17], dtype=uint8), array([210, 207, 199, ..., 218, 184, 169], dtype=uint8), array([142, 143, 143, ...,  17,   7,   9], dtype=uint8), array([ 54,  56,  61, ..., 146, 143, 142], dtype=uint8), array([169, 172, 168, ..., 191, 194, 102], dtype=uint8), array([118, 118, 118, ..., 164, 190, 210], dtype=uint8), array([ 60,  64,  67, ..., 194, 180, 176], dtype=uint8), array([111, 111, 112, ...,  97,  81,  70], dtype=uint8), array([178, 178, 179, ..., 147,  98, 107], dtype=uint8), array([ 97,  90,  86, ..., 136, 143, 143], dtype=uint8), array([ 8,  8,  8, ..., 72, 46, 21], dtype=uint8), array([ 76,  78,  79, ..., 137, 132, 143], dtype=uint8), array([ 63,  63,  61, ..., 225, 222, 222], dtype=uint8), array([211, 211, 211, ..., 194, 200, 207], dtype=uint8), array([214, 216, 216, ...,  85,  82,  85], dtype=uint8), array([15, 16, 14, ...,  4,  4,  4], dtype=uint8), array([46, 46, 46, ..., 52, 47, 48], dtype=uint8), array([90, 90, 87, ..., 78, 71, 77], dtype=uint8), array([112,  82, 103, ...,  40,  40,  40], dtype=uint8), array([0, 0, 0, ..., 1, 0, 0], dtype=uint8), array([194, 187, 180, ..., 168, 171, 177], dtype=uint8), array([ 53,  54,  55, ..., 245, 245, 245], dtype=uint8), array([ 79,  83,  87, ..., 217, 217, 213], dtype=uint8), array([255, 255, 255, ..., 242, 241, 238], dtype=uint8), array([ 73,  71,  72, ...,  70,  73, 121], dtype=uint8), array([ 39,  41,  44, ..., 244, 243, 235], dtype=uint8), array([ 56,  53,  58, ..., 114, 117, 119], dtype=uint8), array([118, 119, 122, ...,  34,  50,  44], dtype=uint8), array([231, 232, 231, ..., 110,  99, 130], dtype=uint8), array([ 52,  55,  56, ..., 143, 147, 145], dtype=uint8), array([209, 199, 200, ..., 195, 184, 162], dtype=uint8), array([53, 52, 56, ..., 41, 33, 41], dtype=uint8), array([31, 32, 33, ..., 50, 50, 52], dtype=uint8), array([ 7,  7,  7, ..., 57, 72, 70], dtype=uint8), array([190, 190, 191, ..., 144, 144, 143], dtype=uint8), array([169, 163, 161, ..., 192, 197, 181], dtype=uint8), array([53, 52, 49, ..., 32, 26, 29], dtype=uint8), array([  1,   3,   4, ..., 255, 253, 247], dtype=uint8), array([ 75,  76,  76, ..., 111, 113, 114], dtype=uint8), array([47, 44, 49, ..., 50, 62, 71], dtype=uint8), array([ 39,  38,  39, ..., 171, 178, 182], dtype=uint8), array([ 92,  91,  90, ..., 104, 104, 102], dtype=uint8), array([106,  86,  85, ...,  60,  39,  48], dtype=uint8), array([ 53,  54,  55, ..., 160, 155, 149], dtype=uint8), array([10, 10, 10, ..., 13, 12, 11], dtype=uint8), array([231, 231, 231, ..., 219, 193, 170], dtype=uint8), array([107, 108, 108, ...,  50,  39,  48], dtype=uint8), array([ 77,  70,  70, ...,  73, 109, 144], dtype=uint8), array([105, 105, 105, ..., 200, 202, 203], dtype=uint8), array([0, 0, 0, ..., 0, 0, 0], dtype=uint8), array([ 73,  72,  70, ..., 248, 248, 248], dtype=uint8), array([ 90,  91,  93, ..., 153, 156, 159], dtype=uint8), array([101, 101, 101, ..., 235, 225, 220], dtype=uint8), array([182, 177, 172, ...,  82,  82,  83], dtype=uint8), array([112, 114, 115, ..., 106, 106, 106], dtype=uint8), array([ 18,  18,  18, ..., 194, 195, 191], dtype=uint8), array([19, 19, 20, ..., 32, 26, 21], dtype=uint8), array([129, 131, 132, ..., 242, 239, 237], dtype=uint8), array([107, 106, 109, ..., 247, 248, 245], dtype=uint8), array([174, 174, 174, ..., 171, 197, 208], dtype=uint8), array([ 86,  87,  88, ..., 226, 227, 228], dtype=uint8), array([ 68,  69,  70, ..., 207, 205, 202], dtype=uint8), array([ 50,  50,  51, ..., 189, 191, 192], dtype=uint8), array([122, 123, 134, ..., 124, 125, 133], dtype=uint8), array([ 99,  99,  98, ..., 106,  96,  69], dtype=uint8), array([ 88,  88,  88, ..., 123, 118, 109], dtype=uint8), array([105, 105, 105, ...,  63,  60,  59], dtype=uint8), array([18, 18, 18, ..., 78, 72, 67], dtype=uint8), array([ 99, 101, 105, ...,  72,  68,  63], dtype=uint8), array([ 76,  76,  76, ..., 116, 114, 112], dtype=uint8), array([195, 192, 193, ...,  90,  91,  96], dtype=uint8), array([93, 92, 89, ..., 95, 86, 93], dtype=uint8), array([141, 140, 141, ..., 112, 119, 107], dtype=uint8), array([166, 168, 170, ..., 161, 166, 166], dtype=uint8), array([121, 123, 121, ...,  24,  16,  34], dtype=uint8), array([202, 202, 201, ..., 141, 185, 188], dtype=uint8), array([111, 136, 150, ..., 139, 138, 149], dtype=uint8), array([ 96,  96,  96, ..., 129, 129, 132], dtype=uint8), array([173, 171, 170, ..., 128, 126, 127], dtype=uint8), array([227, 214, 201, ..., 141, 120, 102], dtype=uint8), array([117, 117, 117, ..., 192, 167, 164], dtype=uint8), array([113, 110, 107, ..., 218, 201, 200], dtype=uint8), array([168, 167, 159, ...,  37,  33,  42], dtype=uint8), array([ 55,  55,  55, ..., 185, 179, 184], dtype=uint8), array([194, 193, 192, ..., 166, 164, 167], dtype=uint8), array([  4,   3,   4, ..., 216, 209, 205], dtype=uint8), array([255, 255, 255, ..., 152, 151, 144], dtype=uint8), array([128, 121, 114, ..., 229, 229, 231], dtype=uint8), array([  1,   1,   1, ..., 144, 145, 141], dtype=uint8), array([ 62,  62,  62, ..., 156, 159, 138], dtype=uint8), array([ 85,  83, 116, ..., 200, 189, 195], dtype=uint8), array([220, 222, 222, ..., 230, 229, 211], dtype=uint8), array([ 37,  37,  37, ..., 188, 190, 192], dtype=uint8), array([  5,   5,   5, ..., 103,  71, 153], dtype=uint8), array([255, 255, 255, ..., 253, 254, 254], dtype=uint8), array([ 60,  62,  61, ..., 217, 227, 177], dtype=uint8), array([143, 142, 143, ...,  65,  74,  58], dtype=uint8), array([ 80,  85, 101, ..., 213, 209, 211], dtype=uint8), array([167, 169, 172, ..., 196, 195, 195], dtype=uint8), array([236, 236, 236, ...,  18,  19,  18], dtype=uint8), array([33, 33, 33, ..., 94, 93, 92], dtype=uint8), array([165, 174, 183, ..., 165, 168, 173], dtype=uint8), array([118, 125, 133, ..., 216, 187, 175], dtype=uint8), array([ 69,  69,  74, ..., 237, 240, 232], dtype=uint8), array([255, 255, 255, ..., 255, 255, 255], dtype=uint8), array([12, 12, 12, ..., 53, 21, 77], dtype=uint8), array([179, 180, 174, ..., 186, 186, 182], dtype=uint8), array([ 8,  7,  7, ..., 64, 63, 64], dtype=uint8), array([191, 191, 191, ..., 142, 137, 138], dtype=uint8), array([ 81,  81,  81, ..., 223, 223, 223], dtype=uint8), array([ 96,  92,  89, ..., 211, 207, 205], dtype=uint8), array([202, 203, 205, ..., 153, 155, 156], dtype=uint8), array([255, 255, 255, ...,  74,  63,  48], dtype=uint8), array([ 11,  11,  11, ..., 209, 214, 214], dtype=uint8), array([210, 192, 193, ..., 168, 111, 164], dtype=uint8), array([153, 152, 152, ...,  99,  98, 142], dtype=uint8), array([223, 223, 223, ...,  44,  27,  24], dtype=uint8), array([132, 133, 134, ..., 111, 104,  95], dtype=uint8), array([255, 255, 255, ..., 199, 207, 217], dtype=uint8), array([ 76,  77,  80, ..., 211, 212, 212], dtype=uint8), array([85, 86, 83, ..., 81, 77, 79], dtype=uint8), array([143, 144, 142, ..., 234, 246, 145], dtype=uint8), array([195, 195, 192, ..., 102, 101, 106], dtype=uint8), array([255, 255, 255, ...,  80,  58,  63], dtype=uint8), array([172, 172, 172, ..., 200, 192, 190], dtype=uint8), array([145, 146, 146, ..., 168, 151, 121], dtype=uint8), array([ 80,  84,  84, ..., 161, 151, 157], dtype=uint8), array([170, 168, 168, ..., 155, 172, 186], dtype=uint8), array([138, 137, 136, ..., 201, 200, 200], dtype=uint8), array([  0,   0,   0, ..., 198, 146, 110], dtype=uint8), array([ 69,  74,  82, ..., 139, 139, 137], dtype=uint8), array([235, 220, 199, ...,  66,  65, 210], dtype=uint8), array([229, 227, 229, ...,  77,  89,  87], dtype=uint8), array([202, 201, 202, ..., 237, 240, 234], dtype=uint8), array([204, 206, 205, ..., 251, 242, 232], dtype=uint8), array([ 58,  52,  50, ..., 143, 161, 146], dtype=uint8), array([184, 131,  94, ..., 236, 243, 237], dtype=uint8), array([239, 238, 237, ..., 101, 120, 100], dtype=uint8), array([ 31,  27,  28, ..., 247, 117,  55], dtype=uint8), array([ 67,  68,  56, ..., 246, 247, 245], dtype=uint8), array([255, 255, 255, ...,  95, 106, 118], dtype=uint8), array([198, 202, 204, ..., 226, 228, 225], dtype=uint8), array([ 36,  35,  32, ..., 231, 230, 229], dtype=uint8), array([ 62,  55,  51, ..., 135, 232, 217], dtype=uint8), array([206, 206, 206, ..., 113, 118, 117], dtype=uint8), array([211, 211, 213, ..., 167, 151, 156], dtype=uint8), array([240, 235, 236, ..., 218, 223, 227], dtype=uint8), array([143, 169, 144, ..., 241, 250, 249], dtype=uint8), array([100, 150, 164, ...,  35,  25,  20], dtype=uint8), array([255, 255, 255, ..., 222, 223, 223], dtype=uint8), array([178, 195, 201, ...,  40,  50,  59], dtype=uint8), array([174, 175, 175, ..., 164, 160, 161], dtype=uint8), array([37, 37, 38, ..., 44, 61, 90], dtype=uint8), array([ 99, 100, 100, ..., 208, 210, 209], dtype=uint8), array([157, 155, 156, ..., 157, 158, 156], dtype=uint8), array([ 6,  4,  4, ..., 20, 23, 24], dtype=uint8), array([130, 136, 145, ...,  85,  46,  53], dtype=uint8), array([35, 31, 32, ..., 64, 59, 59], dtype=uint8), array([122, 124, 126, ...,  52,  60,  50], dtype=uint8), array([87, 87, 87, ..., 46, 45, 44], dtype=uint8), array([33, 33, 33, ..., 42, 42, 42], dtype=uint8), array([209, 213, 215, ..., 105, 109, 106], dtype=uint8), array([130, 133, 128, ...,  25,  20,  20], dtype=uint8), array([140, 143, 144, ...,  34,  33,  36], dtype=uint8), array([ 16,  14,  14, ..., 181, 185, 181], dtype=uint8), array([173, 183, 188, ..., 189, 228, 167], dtype=uint8), array([ 55,  57,  59, ..., 190, 190, 190], dtype=uint8), array([  4,   4,   4, ..., 125, 120, 125], dtype=uint8), array([105, 108, 115, ...,  23,  22,  22], dtype=uint8), array([161, 158, 156, ...,  10,  15,  22], dtype=uint8), array([211, 212, 212, ...,  54,  51,  51], dtype=uint8), array([ 37,  38,  41, ..., 205, 213, 217], dtype=uint8), array([66, 69, 79, ...,  7, 30, 84], dtype=uint8), array([146, 141, 143, ...,  50,  53,  48], dtype=uint8), array([88, 88, 86, ..., 18, 18,  5], dtype=uint8), array([ 7,  5,  4, ..., 24, 22, 17], dtype=uint8), array([28, 28, 28, ..., 29, 29, 30], dtype=uint8), array([124, 123, 110, ...,  56,  55,  55], dtype=uint8), array([149, 146, 143, ..., 175, 182, 180], dtype=uint8), array([ 90,  85, 165, ..., 137,  53, 101], dtype=uint8), array([52, 51, 51, ..., 28, 28, 28], dtype=uint8), array([0, 0, 0, ..., 0, 0, 0], dtype=uint8), array([173, 171, 172, ...,  62, 116, 113], dtype=uint8), array([ 6,  5,  5, ..., 68, 72, 70], dtype=uint8), array([37, 34, 34, ..., 31, 26, 37], dtype=uint8), array([ 20,  21,  21, ..., 132, 211, 193], dtype=uint8), array([48, 48, 48, ..., 18, 15, 12], dtype=uint8), array([161, 161, 160, ..., 218, 217, 230], dtype=uint8), array([ 3,  3,  3, ..., 28, 25, 26], dtype=uint8), array([122, 122, 122, ...,  19,  20,  23], dtype=uint8), array([47, 59, 65, ..., 99, 98, 97], dtype=uint8), array([163, 164, 163, ...,  28,  20,  16], dtype=uint8), array([246, 246, 247, ..., 173, 174, 177], dtype=uint8), array([  5,   5,   5, ..., 154, 175, 188], dtype=uint8), array([ 41,  38,  38, ..., 115, 108, 118], dtype=uint8), array([151, 147, 147, ..., 144, 128, 152], dtype=uint8), array([ 87,  85,  86, ..., 178, 198,  90], dtype=uint8), array([152, 137, 141, ...,  51,  38,  67], dtype=uint8), array([10, 10, 10, ..., 59, 59, 58], dtype=uint8), array([212, 204, 212, ..., 104, 125, 181], dtype=uint8), array([223, 211, 194, ...,  27,  26,  26], dtype=uint8), array([187, 143,  30, ..., 202, 192, 173], dtype=uint8), array([  0,   0,   0, ..., 138, 134, 100], dtype=uint8), array([113, 113, 114, ..., 108, 105, 100], dtype=uint8), array([121, 123, 136, ...,  93,  94,  95], dtype=uint8), array([ 33,  30,  42, ..., 246,  74,  86], dtype=uint8), array([105, 111, 112, ..., 192, 216, 236], dtype=uint8), array([70, 70, 67, ..., 48, 50, 50], dtype=uint8), array([236, 240, 240, ..., 234, 236, 230], dtype=uint8), array([232, 232, 232, ...,  23,  18,  18], dtype=uint8), array([143, 144, 144, ...,  17,  18,  17], dtype=uint8), array([ 7,  7,  7, ..., 36, 38, 39], dtype=uint8), array([158, 158, 159, ...,  16,  16,  16], dtype=uint8), array([158, 145, 146, ...,  43,  42,  39], dtype=uint8), array([225, 224, 219, ..., 201, 211, 129], dtype=uint8), array([255, 255, 255, ..., 255, 255, 255], dtype=uint8), array([ 46,  46,  46, ..., 227, 223, 229], dtype=uint8), array([65, 64, 61, ..., 32, 26, 30], dtype=uint8), array([ 5,  5,  5, ..., 37, 41, 40], dtype=uint8), array([ 30, 189, 232, ...,  71,  78,  78], dtype=uint8), array([211, 177, 116, ..., 199, 180, 204], dtype=uint8), array([42, 63, 53, ..., 32, 29, 33], dtype=uint8), array([214, 215, 216, ...,  12,   7,  13], dtype=uint8), array([247, 247, 231, ...,  41,  42,  45], dtype=uint8), array([188, 185, 183, ..., 114, 110, 121], dtype=uint8), array([225, 225, 230, ...,   4,   6,   4], dtype=uint8), array([114, 121, 136, ..., 106,  86,  74], dtype=uint8), array([133, 134, 136, ...,  84,  77,  77], dtype=uint8), array([218, 215, 182, ...,  97,  98,  93], dtype=uint8), array([ 87,  84,  87, ..., 199, 183, 124], dtype=uint8), array([172, 166, 169, ...,  81,  81,  86], dtype=uint8), array([  0,   0,   0, ...,  84,  91, 104], dtype=uint8), array([ 0,  2,  2, ..., 12, 38, 32], dtype=uint8), array([ 43,  42,  41, ..., 243, 250, 244], dtype=uint8), array([ 43,  46,  50, ..., 245, 245, 241], dtype=uint8), array([61, 61, 63, ..., 87, 88, 88], dtype=uint8), array([19, 19, 18, ..., 66, 65, 66], dtype=uint8), array([144, 145, 147, ..., 125, 126, 127], dtype=uint8), array([ 15,  15,  15, ..., 226, 227, 227], dtype=uint8), array([ 10,   5,   0, ..., 151, 150, 146], dtype=uint8), array([12, 12, 12, ...,  1,  1,  2], dtype=uint8), array([ 88,  89,  86, ..., 240, 241, 240], dtype=uint8), array([ 67,  67,  65, ..., 216, 219, 226], dtype=uint8), array([65, 69, 70, ..., 48, 46, 45], dtype=uint8), array([ 76,  78,  81, ..., 229, 233, 230], dtype=uint8), array([ 93,  92,  89, ..., 211, 210, 211], dtype=uint8), array([ 59,  72,  77, ..., 222, 221, 221], dtype=uint8), array([179, 178, 176, ...,  41,  48,  54], dtype=uint8), array([207, 207, 204, ..., 106, 117, 116], dtype=uint8), array([23, 26, 25, ..., 47, 48, 48], dtype=uint8), array([ 89,  88,  87, ..., 217, 216, 215], dtype=uint8), array([ 78,  75,  74, ..., 230, 229, 213], dtype=uint8), array([100, 102, 105, ...,  93,  91,  87], dtype=uint8), array([114, 116, 113, ..., 249, 249, 250], dtype=uint8), array([137, 132, 133, ...,  60,  57,  62], dtype=uint8), array([114, 113, 111, ...,  70,  56,  62], dtype=uint8), array([ 43,  41,  45, ..., 232, 228, 238], dtype=uint8), array([ 25,  25,  25, ..., 237, 131,  65], dtype=uint8), array([246, 248, 246, ...,  69,  44,  49], dtype=uint8), array([ 21,  21,  21, ..., 124, 141, 155], dtype=uint8), array([247, 245, 245, ..., 144, 164, 158], dtype=uint8), array([109, 111, 112, ...,  64,  68,  63], dtype=uint8), array([  7,   7,   7, ..., 192, 195, 199], dtype=uint8), array([187, 187, 189, ..., 179, 182, 182], dtype=uint8), array([ 75,  78,  79, ..., 135, 137, 146], dtype=uint8), array([ 55,  50,  45, ..., 191, 177, 172], dtype=uint8), array([187, 187, 187, ..., 195, 193, 193], dtype=uint8), array([101, 102, 100, ..., 232, 236, 230], dtype=uint8), array([176, 169, 163, ...,  48,  47,  51], dtype=uint8), array([ 90,  85,  80, ..., 255, 255, 255], dtype=uint8), array([40, 42, 43, ..., 26, 25, 25], dtype=uint8), array([13, 13, 13, ..., 45, 42, 37], dtype=uint8), array([ 51,  52,  53, ..., 192, 200, 219], dtype=uint8), array([197, 197, 197, ..., 196, 191, 187], dtype=uint8), array([ 61,  66,  65, ..., 188, 182, 180], dtype=uint8), array([ 23,  22,  22, ..., 248, 253, 255], dtype=uint8), array([ 45,  45,  42, ..., 239, 239, 232], dtype=uint8), array([144, 141, 139, ..., 233, 234, 236], dtype=uint8), array([ 6,  3,  3, ..., 20, 20, 20], dtype=uint8), array([ 10,  10,  10, ..., 164, 167, 215], dtype=uint8), array([ 23,  23,  23, ..., 228, 230, 235], dtype=uint8), array([181, 181, 181, ..., 111, 100, 100], dtype=uint8), array([ 52,  50,  49, ..., 227, 226, 229], dtype=uint8), array([247, 248, 246, ...,  38,  38,  41], dtype=uint8), array([ 17,  17,  16, ..., 225, 225, 216], dtype=uint8), array([ 61,  59,  59, ..., 202, 206, 209], dtype=uint8), array([21, 22, 22, ..., 54, 54, 53], dtype=uint8), array([43, 43, 43, ..., 64, 63, 65], dtype=uint8), array([144, 143, 140, ..., 200, 183, 217], dtype=uint8), array([ 92,  94,  96, ..., 124, 121, 122], dtype=uint8), array([0, 0, 0, ..., 0, 0, 0], dtype=uint8), array([14, 14, 14, ..., 24, 26, 26], dtype=uint8), array([ 70,  74,  75, ..., 200, 205, 202], dtype=uint8), array([120, 121, 120, ..., 158, 157, 151], dtype=uint8), array([170, 173, 177, ...,  21,  18,  17], dtype=uint8), array([26, 26, 24, ..., 71, 69, 69], dtype=uint8), array([ 17,  18,  19, ..., 150, 167, 163], dtype=uint8), array([ 18,  17,  16, ..., 101, 110,  82], dtype=uint8), array([ 11,  11,  11, ..., 190, 190, 190], dtype=uint8), array([ 27,  25,  26, ..., 216, 171, 135], dtype=uint8), array([ 30,  27,  29, ..., 255, 255, 255], dtype=uint8), array([ 21,  17,  23, ..., 227, 222, 219], dtype=uint8), array([23, 25, 29, ..., 72, 67, 72], dtype=uint8), array([83, 83, 83, ..., 53, 44, 42], dtype=uint8), array([89, 90, 90, ..., 96, 95, 98], dtype=uint8), array([ 25,  25,  26, ..., 166, 172, 170], dtype=uint8), array([122, 121, 120, ..., 205, 200,  93], dtype=uint8), array([ 62,  65,  71, ..., 159, 155, 151], dtype=uint8), array([102, 102, 102, ..., 194, 196, 197], dtype=uint8), array([23, 21, 17, ..., 95, 72, 75], dtype=uint8), array([ 39,  38,  38, ..., 210, 216, 219], dtype=uint8), array([ 13,  13,  12, ..., 110, 103, 112], dtype=uint8)]\n",
      "['adityaroy', 'adityaroy', 'adityaroy', 'adityaroy', 'adityaroy', 'adityaroy', 'adityaroy', 'adityaroy', 'adityaroy', 'adityaroy', 'adityaroy', 'adityaroy', 'adityaroy', 'adityaroy', 'adityaroy', 'adityaroy', 'adityaroy', 'adityaroy', 'adityaroy', 'adityaroy', 'adityaroy', 'adityaroy', 'adityaroy', 'adityaroy', 'adityaroy', 'adityaroy', 'adityaroy', 'adityaroy', 'adityaroy', 'adityaroy', 'adityaroy', 'adityaroy', 'adityaroy', 'adityaroy', 'adityaroy', 'adityaroy', 'adityaroy', 'adityaroy', 'adityaroy', 'adityaroy', 'adityaroy', 'adityaroy', 'adityaroy', 'adityaroy', 'adityaroy', 'adityaroy', 'adityaroy', 'adityaroy', 'adityaroy', 'adityaroy', 'adityaroy', 'adityaroy', 'adityaroy', 'adityaroy', 'adityaroy', 'adityaroy', 'adityaroy', 'adityaroy', 'adityaroy', 'adityaroy', 'adityaroy', 'adityaroy', 'adityaroy', 'adityaroy', 'adityaroy', 'adityaroy', 'adityaroy', 'adityaroy', 'adityaroy', 'adityaroy', 'adityaroy', 'adityaroy', 'adityaroy', 'adityaroy', 'adityaroy', 'adityaroy', 'adityaroy', 'adityaroy', 'adityaroy', 'adityaroy', 'bald', 'bald', 'bald', 'bald', 'bald', 'bald', 'bald', 'bald', 'bald', 'bald', 'bald', 'bald', 'bald', 'bald', 'bald', 'bald', 'bald', 'bald', 'bald', 'bald', 'bald', 'bald', 'bald', 'bald', 'bald', 'bald', 'bald', 'bald', 'bald', 'bald', 'bald', 'bald', 'bald', 'bald', 'bald', 'bald', 'bald', 'bald', 'bald', 'bald', 'bald', 'bald', 'bald', 'bald', 'bald', 'bald', 'bald', 'bald', 'bald', 'bald', 'bald', 'bald', 'bald', 'bald', 'bald', 'bald', 'bald', 'bald', 'bald', 'bald', 'bald', 'bald', 'bald', 'bald', 'bald', 'bald', 'bald', 'bald', 'bald', 'bald', 'bald', 'bald', 'bald', 'bald', 'bald', 'bald', 'bald', 'bald', 'bald', 'bald', 'devillers', 'devillers', 'devillers', 'devillers', 'devillers', 'devillers', 'devillers', 'devillers', 'devillers', 'devillers', 'devillers', 'devillers', 'devillers', 'devillers', 'devillers', 'devillers', 'devillers', 'devillers', 'devillers', 'devillers', 'devillers', 'devillers', 'devillers', 'devillers', 'devillers', 'devillers', 'devillers', 'devillers', 'devillers', 'devillers', 'devillers', 'devillers', 'devillers', 'devillers', 'devillers', 'devillers', 'devillers', 'devillers', 'devillers', 'devillers', 'devillers', 'devillers', 'devillers', 'devillers', 'devillers', 'devillers', 'devillers', 'devillers', 'devillers', 'devillers', 'devillers', 'devillers', 'devillers', 'devillers', 'devillers', 'devillers', 'devillers', 'devillers', 'devillers', 'devillers', 'devillers', 'devillers', 'devillers', 'devillers', 'devillers', 'devillers', 'devillers', 'devillers', 'devillers', 'devillers', 'devillers', 'devillers', 'devillers', 'devillers', 'devillers', 'devillers', 'devillers', 'devillers', 'devillers', 'devillers', 'modi', 'modi', 'modi', 'modi', 'modi', 'modi', 'modi', 'modi', 'modi', 'modi', 'modi', 'modi', 'modi', 'modi', 'modi', 'modi', 'modi', 'modi', 'modi', 'modi', 'modi', 'modi', 'modi', 'modi', 'modi', 'modi', 'modi', 'modi', 'modi', 'modi', 'modi', 'modi', 'modi', 'modi', 'modi', 'modi', 'modi', 'modi', 'modi', 'modi', 'modi', 'modi', 'modi', 'modi', 'modi', 'modi', 'modi', 'modi', 'modi', 'modi', 'modi', 'modi', 'modi', 'modi', 'modi', 'modi', 'modi', 'modi', 'modi', 'modi', 'modi', 'modi', 'modi', 'modi', 'modi', 'modi', 'modi', 'modi', 'modi', 'modi', 'modi', 'modi', 'modi', 'modi', 'modi', 'modi', 'modi', 'modi', 'modi', 'modi', 'rock', 'rock', 'rock', 'rock', 'rock', 'rock', 'rock', 'rock', 'rock', 'rock', 'rock', 'rock', 'rock', 'rock', 'rock', 'rock', 'rock', 'rock', 'rock', 'rock', 'rock', 'rock', 'rock', 'rock', 'rock', 'rock', 'rock', 'rock', 'rock', 'rock', 'rock', 'rock', 'rock', 'rock', 'rock', 'rock', 'rock', 'rock', 'rock', 'rock', 'rock', 'rock', 'rock', 'rock', 'rock', 'rock', 'rock', 'rock', 'rock', 'rock', 'rock', 'rock', 'rock', 'rock', 'rock', 'rock', 'rock', 'rock', 'rock', 'rock', 'rock', 'rock', 'rock', 'rock', 'rock', 'rock', 'rock', 'rock', 'rock', 'rock', 'rock', 'rock', 'rock', 'rock', 'rock', 'rock', 'rock', 'rock', 'rock', 'rock', 'ronaldo', 'ronaldo', 'ronaldo', 'ronaldo', 'ronaldo', 'ronaldo', 'ronaldo', 'ronaldo', 'ronaldo', 'ronaldo', 'ronaldo', 'ronaldo', 'ronaldo', 'ronaldo', 'ronaldo', 'ronaldo', 'ronaldo', 'ronaldo', 'ronaldo', 'ronaldo', 'ronaldo', 'ronaldo', 'ronaldo', 'ronaldo', 'ronaldo', 'ronaldo', 'ronaldo', 'ronaldo', 'ronaldo', 'ronaldo', 'ronaldo', 'ronaldo', 'ronaldo', 'ronaldo', 'ronaldo', 'ronaldo', 'ronaldo', 'ronaldo', 'ronaldo', 'ronaldo', 'ronaldo', 'ronaldo', 'ronaldo', 'ronaldo', 'ronaldo', 'ronaldo', 'ronaldo', 'ronaldo', 'ronaldo', 'ronaldo', 'ronaldo', 'ronaldo', 'ronaldo', 'ronaldo', 'ronaldo', 'ronaldo', 'ronaldo', 'ronaldo', 'ronaldo', 'ronaldo', 'ronaldo', 'ronaldo', 'ronaldo', 'ronaldo', 'ronaldo', 'ronaldo', 'ronaldo', 'ronaldo', 'ronaldo', 'ronaldo', 'ronaldo', 'ronaldo', 'ronaldo', 'ronaldo', 'ronaldo', 'ronaldo', 'ronaldo', 'ronaldo', 'ronaldo', 'ronaldo']\n"
     ]
    }
   ],
   "source": [
    "for person_id, person_folder in enumerate(sorted(glob(os.path.join(dataset_path, \"*\")))):\n",
    "    person_name = os.path.basename(person_folder)\n",
    "    for image_path in glob(os.path.join(person_folder, \"*.jpg\")):\n",
    "        # Read the image using OpenCV\n",
    "        image = cv2.imread(image_path, cv2.IMREAD_GRAYSCALE)\n",
    "        # Resize the image to the desired dimensions\n",
    "        image = cv2.resize(image, (desired_width, desired_height))\n",
    "        # Flatten the image and add it to the list\n",
    "        images.append(image.flatten())\n",
    "        # Extract the person's name from the filename and add it to the labels\n",
    "        person_name_in_filename = os.path.splitext(os.path.basename(image_path))[0].split(\"_\")[0]\n",
    "        labels.append(person_name_in_filename)\n",
    "\n",
    "\n",
    "print(images)\n",
    "print(labels)"
   ]
  },
  {
   "cell_type": "code",
   "execution_count": 6,
   "id": "e92cd1d4",
   "metadata": {},
   "outputs": [
    {
     "name": "stdout",
     "output_type": "stream",
     "text": [
      "[[144 143 129 ...  20  29  35]\n",
      " [ 86  87  88 ... 226 227 228]\n",
      " [ 25  25  26 ... 166 172 170]\n",
      " ...\n",
      " [ 52  51  51 ...  28  28  28]\n",
      " [101 102 100 ... 232 236 230]\n",
      " [  0   0   0 ...   0   0   0]] [[ 55  56  59 ...  43  28  23]\n",
      " [ 59  72  77 ... 222 221 221]\n",
      " [114 121 136 ... 106  86  74]\n",
      " ...\n",
      " [ 12  12  12 ...   1   1   2]\n",
      " [119 125 123 ... 122 121 119]\n",
      " [ 78  75  74 ... 230 229 213]] ['bald' 'devillers' 'ronaldo' 'adityaroy' 'rock' 'ronaldo' 'bald'\n",
      " 'ronaldo' 'devillers' 'devillers' 'ronaldo' 'adityaroy' 'ronaldo'\n",
      " 'adityaroy' 'bald' 'ronaldo' 'bald' 'ronaldo' 'ronaldo' 'adityaroy'\n",
      " 'devillers' 'modi' 'ronaldo' 'adityaroy' 'adityaroy' 'adityaroy' 'rock'\n",
      " 'bald' 'adityaroy' 'bald' 'bald' 'rock' 'ronaldo' 'ronaldo' 'bald' 'rock'\n",
      " 'devillers' 'adityaroy' 'devillers' 'modi' 'ronaldo' 'adityaroy' 'bald'\n",
      " 'adityaroy' 'adityaroy' 'ronaldo' 'rock' 'adityaroy' 'ronaldo'\n",
      " 'adityaroy' 'bald' 'modi' 'modi' 'adityaroy' 'modi' 'devillers'\n",
      " 'adityaroy' 'adityaroy' 'ronaldo' 'bald' 'adityaroy' 'bald' 'ronaldo'\n",
      " 'bald' 'bald' 'modi' 'ronaldo' 'bald' 'rock' 'rock' 'modi' 'modi'\n",
      " 'devillers' 'ronaldo' 'bald' 'rock' 'adityaroy' 'devillers' 'devillers'\n",
      " 'rock' 'devillers' 'devillers' 'bald' 'devillers' 'bald' 'modi' 'bald'\n",
      " 'rock' 'rock' 'bald' 'rock' 'devillers' 'rock' 'devillers' 'adityaroy'\n",
      " 'modi' 'ronaldo' 'devillers' 'bald' 'modi' 'rock' 'ronaldo' 'rock' 'modi'\n",
      " 'rock' 'rock' 'rock' 'ronaldo' 'adityaroy' 'devillers' 'bald' 'rock'\n",
      " 'devillers' 'modi' 'modi' 'adityaroy' 'bald' 'devillers' 'rock'\n",
      " 'adityaroy' 'rock' 'rock' 'bald' 'bald' 'devillers' 'rock' 'devillers'\n",
      " 'modi' 'adityaroy' 'rock' 'bald' 'bald' 'adityaroy' 'rock' 'devillers'\n",
      " 'ronaldo' 'modi' 'devillers' 'modi' 'modi' 'ronaldo' 'devillers' 'bald'\n",
      " 'bald' 'devillers' 'modi' 'bald' 'adityaroy' 'bald' 'ronaldo' 'adityaroy'\n",
      " 'ronaldo' 'bald' 'rock' 'bald' 'bald' 'devillers' 'rock' 'ronaldo' 'modi'\n",
      " 'bald' 'rock' 'bald' 'devillers' 'devillers' 'modi' 'modi' 'modi' 'rock'\n",
      " 'modi' 'rock' 'ronaldo' 'bald' 'modi' 'devillers' 'ronaldo' 'devillers'\n",
      " 'bald' 'ronaldo' 'modi' 'modi' 'ronaldo' 'modi' 'rock' 'ronaldo' 'rock'\n",
      " 'ronaldo' 'bald' 'devillers' 'modi' 'rock' 'modi' 'ronaldo' 'rock'\n",
      " 'devillers' 'rock' 'devillers' 'bald' 'devillers' 'modi' 'devillers'\n",
      " 'bald' 'bald' 'rock' 'devillers' 'rock' 'rock' 'bald' 'modi' 'rock'\n",
      " 'bald' 'rock' 'modi' 'bald' 'rock' 'adityaroy' 'ronaldo' 'adityaroy'\n",
      " 'modi' 'bald' 'modi' 'devillers' 'bald' 'adityaroy' 'adityaroy'\n",
      " 'adityaroy' 'devillers' 'bald' 'rock' 'ronaldo' 'devillers' 'bald'\n",
      " 'adityaroy' 'modi' 'ronaldo' 'rock' 'devillers' 'adityaroy' 'rock'\n",
      " 'devillers' 'modi' 'modi' 'rock' 'adityaroy' 'modi' 'ronaldo' 'bald'\n",
      " 'devillers' 'ronaldo' 'devillers' 'devillers' 'bald' 'modi' 'devillers'\n",
      " 'adityaroy' 'adityaroy' 'adityaroy' 'modi' 'rock' 'devillers' 'ronaldo'\n",
      " 'adityaroy' 'rock' 'devillers' 'modi' 'modi' 'devillers' 'ronaldo' 'bald'\n",
      " 'adityaroy' 'bald' 'bald' 'ronaldo' 'adityaroy' 'rock' 'ronaldo'\n",
      " 'adityaroy' 'modi' 'adityaroy' 'bald' 'adityaroy' 'ronaldo' 'ronaldo'\n",
      " 'devillers' 'modi' 'ronaldo' 'ronaldo' 'rock' 'devillers' 'devillers'\n",
      " 'devillers' 'modi' 'ronaldo' 'modi' 'ronaldo' 'ronaldo' 'modi' 'rock'\n",
      " 'modi' 'devillers' 'devillers' 'adityaroy' 'devillers' 'devillers' 'modi'\n",
      " 'modi' 'bald' 'adityaroy' 'rock' 'adityaroy' 'ronaldo' 'ronaldo'\n",
      " 'adityaroy' 'bald' 'devillers' 'adityaroy' 'modi' 'rock' 'bald' 'rock'\n",
      " 'ronaldo' 'adityaroy' 'rock' 'modi' 'modi' 'adityaroy' 'modi' 'bald'\n",
      " 'rock' 'modi' 'devillers' 'rock' 'ronaldo' 'bald' 'modi' 'ronaldo' 'modi'\n",
      " 'modi' 'adityaroy' 'rock' 'adityaroy' 'devillers' 'devillers' 'ronaldo'\n",
      " 'devillers' 'devillers' 'adityaroy' 'adityaroy' 'rock' 'devillers' 'modi'\n",
      " 'adityaroy' 'modi' 'devillers' 'modi' 'ronaldo' 'devillers' 'rock' 'modi'\n",
      " 'ronaldo' 'rock' 'modi' 'modi' 'bald' 'bald' 'bald' 'rock' 'bald' 'rock'\n",
      " 'bald' 'ronaldo' 'rock' 'devillers' 'ronaldo' 'bald' 'ronaldo'\n",
      " 'adityaroy' 'devillers' 'adityaroy' 'bald' 'modi' 'rock' 'ronaldo' 'bald'] ['adityaroy' 'ronaldo' 'rock' 'modi' 'rock' 'devillers' 'modi' 'rock'\n",
      " 'adityaroy' 'ronaldo' 'adityaroy' 'modi' 'ronaldo' 'modi' 'adityaroy'\n",
      " 'bald' 'adityaroy' 'ronaldo' 'adityaroy' 'devillers' 'devillers'\n",
      " 'ronaldo' 'adityaroy' 'modi' 'bald' 'ronaldo' 'rock' 'rock' 'modi'\n",
      " 'adityaroy' 'rock' 'adityaroy' 'rock' 'ronaldo' 'rock' 'bald' 'modi'\n",
      " 'devillers' 'ronaldo' 'adityaroy' 'rock' 'devillers' 'bald' 'devillers'\n",
      " 'adityaroy' 'rock' 'ronaldo' 'adityaroy' 'bald' 'adityaroy' 'rock' 'rock'\n",
      " 'ronaldo' 'ronaldo' 'modi' 'modi' 'bald' 'bald' 'ronaldo' 'bald'\n",
      " 'ronaldo' 'modi' 'adityaroy' 'bald' 'devillers' 'modi' 'rock' 'adityaroy'\n",
      " 'adityaroy' 'devillers' 'modi' 'adityaroy' 'devillers' 'bald' 'bald'\n",
      " 'devillers' 'modi' 'ronaldo' 'rock' 'adityaroy' 'ronaldo' 'adityaroy'\n",
      " 'bald' 'ronaldo' 'adityaroy' 'modi' 'rock' 'adityaroy' 'rock' 'devillers'\n",
      " 'ronaldo' 'devillers' 'devillers' 'ronaldo' 'adityaroy' 'ronaldo']\n"
     ]
    }
   ],
   "source": [
    "\n",
    "# Convert the lists to numpy arrays\n",
    "X = np.array(images)\n",
    "y = np.array(labels)\n",
    "\n",
    "# Split the data into training and testing sets\n",
    "X_train, X_test, y_train, y_test = train_test_split(X, y, test_size=0.2, random_state=42)\n",
    "\n",
    "print(X_train,X_test,y_train,y_test)"
   ]
  },
  {
   "cell_type": "code",
   "execution_count": 7,
   "id": "66877f42",
   "metadata": {},
   "outputs": [
    {
     "name": "stdout",
     "output_type": "stream",
     "text": [
      "Extracting the top 150 eigenfaces from 384 faces\n",
      "done in 0.904s\n",
      "Projecting the input data on the eigenfaces orthonormal basis\n",
      "done in 0.045s\n"
     ]
    }
   ],
   "source": [
    "# Compute PCA (eigenfaces) on the face dataset: unsupervised feature extraction\n",
    "\n",
    "n_components = 150\n",
    "\n",
    "print(\"Extracting the top %d eigenfaces from %d faces\"\n",
    "      % (n_components, X_train.shape[0]))\n",
    "t0 = time()\n",
    "pca = PCA(n_components=n_components, svd_solver='randomized',\n",
    "          whiten=True).fit(X_train)\n",
    "print(\"done in %0.3fs\" % (time() - t0))\n",
    "\n",
    "eigenfaces = pca.components_.reshape((n_components, desired_height, desired_width))\n",
    "\n",
    "print(\"Projecting the input data on the eigenfaces orthonormal basis\")\n",
    "t0 = time()\n",
    "X_train_pca = pca.transform(X_train)\n",
    "X_test_pca = pca.transform(X_test)\n",
    "print(\"done in %0.3fs\" % (time() - t0))"
   ]
  },
  {
   "cell_type": "code",
   "execution_count": 8,
   "id": "20df8a83",
   "metadata": {},
   "outputs": [
    {
     "name": "stdout",
     "output_type": "stream",
     "text": [
      "Fitting the classifier to the training set\n",
      "done in 4.391s\n",
      "Best estimator found by grid search:\n",
      "SVC(C=1000.0, class_weight='balanced', gamma=0.005)\n"
     ]
    }
   ],
   "source": [
    "# Train a SVM classification model\n",
    "\n",
    "print(\"Fitting the classifier to the training set\")\n",
    "t0 = time()\n",
    "param_grid = {'C': [1e3, 5e3, 1e4, 5e4, 1e5],\n",
    "              'gamma': [0.0001, 0.0005, 0.001, 0.005, 0.01, 0.1], }\n",
    "clf = GridSearchCV(\n",
    "    SVC(kernel='rbf', class_weight='balanced'), param_grid\n",
    ")\n",
    "clf = clf.fit(X_train_pca, y_train)\n",
    "print(\"done in %0.3fs\" % (time() - t0))\n",
    "print(\"Best estimator found by grid search:\")\n",
    "print(clf.best_estimator_)\n"
   ]
  },
  {
   "cell_type": "code",
   "execution_count": 9,
   "id": "f291573a",
   "metadata": {
    "scrolled": true
   },
   "outputs": [
    {
     "name": "stdout",
     "output_type": "stream",
     "text": [
      "Predicting people's names on the test set\n",
      "done in 0.017s\n"
     ]
    }
   ],
   "source": [
    "# Finding the prediction time of Eigenfaces\n",
    "\n",
    "print(\"Predicting people's names on the test set\")\n",
    "t0 = time()\n",
    "y_pred = clf.predict(X_test_pca)\n",
    "print(\"done in %0.3fs\" % (time() - t0))"
   ]
  },
  {
   "cell_type": "code",
   "execution_count": 10,
   "id": "874fa7be",
   "metadata": {
    "scrolled": false
   },
   "outputs": [
    {
     "name": "stdout",
     "output_type": "stream",
     "text": [
      "Classification Report:\n",
      "              precision    recall  f1-score   support\n",
      "\n",
      "   adityaroy       1.00      0.64      0.78        22\n",
      "        bald       0.53      0.83      0.65        12\n",
      "   devillers       0.50      0.54      0.52        13\n",
      "        modi       0.71      0.71      0.71        14\n",
      "        rock       0.58      0.69      0.63        16\n",
      "     ronaldo       0.81      0.68      0.74        19\n",
      "\n",
      "    accuracy                           0.68        96\n",
      "   macro avg       0.69      0.68      0.67        96\n",
      "weighted avg       0.72      0.68      0.69        96\n",
      "\n",
      "Confusion Matrix:\n",
      "[[14  1  2  0  4  1]\n",
      " [ 0 10  0  1  1  0]\n",
      " [ 0  2  7  1  2  1]\n",
      " [ 0  3  1 10  0  0]\n",
      " [ 0  2  0  2 11  1]\n",
      " [ 0  1  4  0  1 13]]\n"
     ]
    }
   ],
   "source": [
    "# Print classification report\n",
    "print(\"Classification Report:\")\n",
    "print(classification_report(y_test, y_pred, target_names=np.unique(y)))\n",
    "\n",
    "# Print confusion matrix\n",
    "conf_matrix = confusion_matrix(y_test, y_pred, labels=np.unique(y))\n",
    "print(\"Confusion Matrix:\")\n",
    "print(conf_matrix)"
   ]
  },
  {
   "cell_type": "code",
   "execution_count": 11,
   "id": "9408f4f1",
   "metadata": {},
   "outputs": [
    {
     "name": "stdout",
     "output_type": "stream",
     "text": [
      "Accuracy: 0.68\n",
      "Precision: 0.72\n",
      "Recall: 0.68\n",
      "F1 Score: 0.69\n"
     ]
    }
   ],
   "source": [
    "# Calculate and print accuracy, precision, recall, and F1-score\n",
    "accuracy = accuracy_score(y_test, y_pred)\n",
    "precision = precision_score(y_test, y_pred, average='weighted')\n",
    "recall = recall_score(y_test, y_pred, average='weighted')\n",
    "f1 = f1_score(y_test, y_pred, average='weighted')\n",
    "\n",
    "print(f\"Accuracy: {accuracy:.2f}\")\n",
    "print(f\"Precision: {precision:.2f}\")\n",
    "print(f\"Recall: {recall:.2f}\")\n",
    "print(f\"F1 Score: {f1:.2f}\")\n"
   ]
  },
  {
   "cell_type": "code",
   "execution_count": null,
   "id": "78512b69",
   "metadata": {},
   "outputs": [],
   "source": []
  }
 ],
 "metadata": {
  "kernelspec": {
   "display_name": "Python 3 (ipykernel)",
   "language": "python",
   "name": "python3"
  },
  "language_info": {
   "codemirror_mode": {
    "name": "ipython",
    "version": 3
   },
   "file_extension": ".py",
   "mimetype": "text/x-python",
   "name": "python",
   "nbconvert_exporter": "python",
   "pygments_lexer": "ipython3",
   "version": "3.11.2"
  }
 },
 "nbformat": 4,
 "nbformat_minor": 5
}
