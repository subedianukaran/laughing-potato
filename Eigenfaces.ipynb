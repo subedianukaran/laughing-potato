{
 "cells": [
  {
   "cell_type": "code",
   "execution_count": 12,
   "id": "f9cb6ae9",
   "metadata": {},
   "outputs": [],
   "source": [
    "from glob import glob\n",
    "import os\n",
    "import numpy as np\n",
    "import cv2\n",
    "from time import time\n",
    "import matplotlib.pyplot as plt\n",
    "\n",
    "from sklearn.model_selection import train_test_split\n",
    "from sklearn.model_selection import GridSearchCV\n",
    "from sklearn.metrics import classification_report, confusion_matrix\n",
    "from sklearn.decomposition import PCA\n",
    "from sklearn.svm import SVC\n",
    "from sklearn.preprocessing import LabelEncoder\n",
    "from sklearn.metrics import accuracy_score, precision_score, recall_score, f1_score"
   ]
  },
  {
   "cell_type": "code",
   "execution_count": 13,
   "id": "77ed86ec",
   "metadata": {},
   "outputs": [
    {
     "name": "stdout",
     "output_type": "stream",
     "text": [
      "[]\n",
      "[]\n"
     ]
    }
   ],
   "source": [
    "\n",
    "# Specify the path to your dataset\n",
    "dataset_path = \"./training\"\n",
    "\n",
    "# Read images and labels from the dataset\n",
    "images = []\n",
    "labels = []\n",
    "\n",
    "# Define the desired dimensions for your images\n",
    "desired_width = 100\n",
    "desired_height = 100\n",
    "print(images)\n",
    "print(labels)"
   ]
  },
  {
   "cell_type": "code",
   "execution_count": 14,
   "id": "c803b703",
   "metadata": {},
   "outputs": [],
   "source": [
    "for person_id, person_folder in enumerate(sorted(glob(os.path.join(dataset_path, \"*\")))):\n",
    "    person_name = os.path.basename(person_folder)\n",
    "    for image_path in glob(os.path.join(person_folder, \"*.jpg\")):\n",
    "        # Read the image using OpenCV\n",
    "        image = cv2.imread(image_path, cv2.IMREAD_GRAYSCALE)\n",
    "        # Resize the image to the desired dimensions\n",
    "        image = cv2.resize(image, (desired_width, desired_height))\n",
    "        # Flatten the image and add it to the list\n",
    "        images.append(image.flatten())\n",
    "        # Extract the person's name from the filename and add it to the labels\n",
    "        person_name_in_filename = os.path.splitext(os.path.basename(image_path))[0].split(\"_\")[0]\n",
    "        labels.append(person_name_in_filename)\n"
   ]
  },
  {
   "cell_type": "code",
   "execution_count": 15,
   "id": "e92cd1d4",
   "metadata": {},
   "outputs": [],
   "source": [
    "\n",
    "# Converting the lists into numpy arrays\n",
    "X = np.array(images)\n",
    "y = np.array(labels)\n",
    "\n",
    "# Splitting the dataset into training dataset and testing dataset\n",
    "X_train, X_test, y_train, y_test = train_test_split(X, y, test_size=0.2, random_state=42)\n",
    "\n"
   ]
  },
  {
   "cell_type": "code",
   "execution_count": 16,
   "id": "66877f42",
   "metadata": {},
   "outputs": [
    {
     "name": "stdout",
     "output_type": "stream",
     "text": [
      "Extracting the top 150 eigenfaces from 384 faces\n",
      "done in 1.404s\n",
      "Projecting the input data on the eigenfaces orthonormal basis\n",
      "done in 0.286s\n"
     ]
    }
   ],
   "source": [
    "# Compute PCA (eigenfaces) on the face dataset: unsupervised feature extraction\n",
    "\n",
    "n_components = 150\n",
    "\n",
    "print(\"Extracting the top %d eigenfaces from %d faces\"\n",
    "      % (n_components, X_train.shape[0]))\n",
    "t0 = time()\n",
    "pca = PCA(n_components=n_components, svd_solver='randomized',\n",
    "          whiten=True).fit(X_train)\n",
    "print(\"done in %0.3fs\" % (time() - t0))\n",
    "\n",
    "eigenfaces = pca.components_.reshape((n_components, desired_height, desired_width))\n",
    "\n",
    "print(\"Projecting the input data on the eigenfaces orthonormal basis\")\n",
    "t0 = time()\n",
    "X_train_pca = pca.transform(X_train)\n",
    "X_test_pca = pca.transform(X_test)\n",
    "print(\"done in %0.3fs\" % (time() - t0))"
   ]
  },
  {
   "cell_type": "code",
   "execution_count": 17,
   "id": "20df8a83",
   "metadata": {},
   "outputs": [
    {
     "name": "stdout",
     "output_type": "stream",
     "text": [
      "Fitting the classifier to the training set\n",
      "done in 3.886s\n",
      "Best estimator found by grid search:\n",
      "SVC(C=1000.0, class_weight='balanced', gamma=0.005)\n"
     ]
    }
   ],
   "source": [
    "# Train a SVM classification model\n",
    "\n",
    "print(\"Fitting the classifier to the training set\")\n",
    "t0 = time()\n",
    "param_grid = {'C': [1e3, 5e3, 1e4, 5e4, 1e5],\n",
    "              'gamma': [0.0001, 0.0005, 0.001, 0.005, 0.01, 0.1], }\n",
    "clf = GridSearchCV(\n",
    "    SVC(kernel='rbf', class_weight='balanced'), param_grid\n",
    ")\n",
    "clf = clf.fit(X_train_pca, y_train)\n",
    "print(\"done in %0.3fs\" % (time() - t0))\n",
    "print(\"Best estimator found by grid search:\")\n",
    "print(clf.best_estimator_)\n"
   ]
  },
  {
   "cell_type": "code",
   "execution_count": 23,
   "id": "f291573a",
   "metadata": {
    "scrolled": true
   },
   "outputs": [
    {
     "name": "stdout",
     "output_type": "stream",
     "text": [
      "Predicting people's names on the test set\n",
      "done in 0.004s\n"
     ]
    }
   ],
   "source": [
    "# Finding the prediction time of Eigenfaces\n",
    "\n",
    "print(\"Predicting people's names on the test set\")\n",
    "t0 = time()\n",
    "y_pred = clf.predict(X_test_pca)\n",
    "print(\"done in %0.3fs\" % (time() - t0))"
   ]
  },
  {
   "cell_type": "code",
   "execution_count": 24,
   "id": "874fa7be",
   "metadata": {
    "scrolled": false
   },
   "outputs": [
    {
     "name": "stdout",
     "output_type": "stream",
     "text": [
      "Classification Report:\n",
      "              precision    recall  f1-score   support\n",
      "\n",
      "   adityaroy       1.00      0.64      0.78        22\n",
      "        bald       0.59      0.83      0.69        12\n",
      "   devillers       0.53      0.62      0.57        13\n",
      "        modi       0.75      0.86      0.80        14\n",
      "        rock       0.59      0.62      0.61        16\n",
      "     ronaldo       0.82      0.74      0.78        19\n",
      "\n",
      "    accuracy                           0.71        96\n",
      "   macro avg       0.71      0.72      0.70        96\n",
      "weighted avg       0.75      0.71      0.71        96\n",
      "\n",
      "Confusion Matrix:\n",
      "[[14  1  2  0  4  1]\n",
      " [ 0 10  0  2  0  0]\n",
      " [ 0  2  8  0  2  1]\n",
      " [ 0  1  1 12  0  0]\n",
      " [ 0  2  1  2 10  1]\n",
      " [ 0  1  3  0  1 14]]\n"
     ]
    }
   ],
   "source": [
    "# Print classification report\n",
    "print(\"Classification Report:\")\n",
    "print(classification_report(y_test, y_pred, target_names=np.unique(y)))\n",
    "\n",
    "# Print confusion matrix\n",
    "conf_matrix = confusion_matrix(y_test, y_pred, labels=np.unique(y))\n",
    "print(\"Confusion Matrix:\")\n",
    "print(conf_matrix)"
   ]
  },
  {
   "cell_type": "code",
   "execution_count": 25,
   "id": "9408f4f1",
   "metadata": {},
   "outputs": [
    {
     "name": "stdout",
     "output_type": "stream",
     "text": [
      "Accuracy: 0.71\n",
      "Precision: 0.75\n",
      "Recall: 0.71\n",
      "F1 Score: 0.71\n"
     ]
    }
   ],
   "source": [
    "# Calculate and print accuracy, precision, recall, and F1-score\n",
    "accuracy = accuracy_score(y_test, y_pred)\n",
    "precision = precision_score(y_test, y_pred, average='weighted')\n",
    "recall = recall_score(y_test, y_pred, average='weighted')\n",
    "f1 = f1_score(y_test, y_pred, average='weighted')\n",
    "\n",
    "print(f\"Accuracy: {accuracy:.2f}\")\n",
    "print(f\"Precision: {precision:.2f}\")\n",
    "print(f\"Recall: {recall:.2f}\")\n",
    "print(f\"F1 Score: {f1:.2f}\")\n"
   ]
  },
  {
   "cell_type": "code",
   "execution_count": null,
   "id": "78512b69",
   "metadata": {},
   "outputs": [],
   "source": []
  }
 ],
 "metadata": {
  "kernelspec": {
   "display_name": "Python 3 (ipykernel)",
   "language": "python",
   "name": "python3"
  },
  "language_info": {
   "codemirror_mode": {
    "name": "ipython",
    "version": 3
   },
   "file_extension": ".py",
   "mimetype": "text/x-python",
   "name": "python",
   "nbconvert_exporter": "python",
   "pygments_lexer": "ipython3",
   "version": "3.11.2"
  }
 },
 "nbformat": 4,
 "nbformat_minor": 5
}
