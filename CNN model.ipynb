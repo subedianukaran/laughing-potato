{
 "cells": [
  {
   "cell_type": "code",
   "execution_count": 18,
   "id": "28a7f5f1",
   "metadata": {},
   "outputs": [],
   "source": [
    "from glob import glob\n",
    "import os\n",
    "import numpy as np\n",
    "import cv2\n",
    "from time import time\n",
    "import matplotlib.pyplot as plt\n",
    "\n",
    "from sklearn.model_selection import train_test_split\n",
    "from sklearn.model_selection import GridSearchCV\n",
    "from sklearn.metrics import classification_report, confusion_matrix\n",
    "from sklearn.decomposition import PCA\n",
    "from sklearn.svm import SVC\n",
    "from sklearn.preprocessing import LabelEncoder\n",
    "from sklearn.metrics import accuracy_score, precision_score, recall_score, f1_score\n",
    "\n",
    "from tensorflow import keras\n",
    "from tensorflow.keras import layers\n",
    "from tensorflow.keras.callbacks import EarlyStopping"
   ]
  },
  {
   "cell_type": "code",
   "execution_count": 19,
   "id": "47a3aaff",
   "metadata": {},
   "outputs": [
    {
     "name": "stdout",
     "output_type": "stream",
     "text": [
      "[]\n",
      "[]\n"
     ]
    }
   ],
   "source": [
    "\n",
    "# Specify the path to your dataset\n",
    "dataset_path = \"./training\"\n",
    "\n",
    "# Read images and labels from the dataset\n",
    "images = []\n",
    "labels = []\n",
    "\n",
    "# Define the desired dimensions for your images\n",
    "desired_width = 100\n",
    "desired_height = 100\n",
    "print(images)\n",
    "print(labels)"
   ]
  },
  {
   "cell_type": "code",
   "execution_count": 20,
   "id": "94847906",
   "metadata": {},
   "outputs": [],
   "source": [
    "for person_id, person_folder in enumerate(sorted(glob(os.path.join(dataset_path, \"*\")))):\n",
    "    person_name = os.path.basename(person_folder)\n",
    "    for image_path in glob(os.path.join(person_folder, \"*.jpg\")):\n",
    "        # Read the image using OpenCV\n",
    "        image = cv2.imread(image_path, cv2.IMREAD_GRAYSCALE)\n",
    "        # Resize the image to the desired dimensions\n",
    "        image = cv2.resize(image, (desired_width, desired_height))\n",
    "        # Flatten the image and add it to the list\n",
    "        images.append(image.flatten())\n",
    "        # Extract the person's name from the filename and add it to the labels\n",
    "        person_name_in_filename = os.path.splitext(os.path.basename(image_path))[0].split(\"_\")[0]\n",
    "        labels.append(person_name_in_filename)"
   ]
  },
  {
   "cell_type": "code",
   "execution_count": 21,
   "id": "166e129d",
   "metadata": {},
   "outputs": [],
   "source": [
    "\n",
    "# Convert the lists to numpy arrays\n",
    "X = np.array(images)\n",
    "y = np.array(labels)\n",
    "\n",
    "# Split the data into training and testing sets\n",
    "X_train, X_test, y_train, y_test = train_test_split(X, y, test_size=0.2, random_state=42)\n"
   ]
  },
  {
   "cell_type": "code",
   "execution_count": 22,
   "id": "ac063bf8",
   "metadata": {},
   "outputs": [],
   "source": [
    "# Reshape the flattened images to 2D arrays\n",
    "X_train_reshaped = X_train.reshape(-1, desired_height, desired_width, 1)\n",
    "X_test_reshaped = X_test.reshape(-1, desired_height, desired_width, 1)\n",
    "\n",
    "# Convert labels to numerical values\n",
    "label_encoder = LabelEncoder()\n",
    "y_train_encoded = label_encoder.fit_transform(y_train)\n",
    "y_test_encoded = label_encoder.transform(y_test)\n",
    "\n",
    "# Normalize pixel values to be between 0 and 1\n",
    "X_train_normalized = X_train_reshaped / 255.0\n",
    "X_test_normalized = X_test_reshaped / 255.0\n",
    "\n",
    "X_train_cnn = X_train_normalized\n",
    "X_val_cnn = X_test_normalized\n",
    "y_train_cnn = y_train_encoded\n",
    "y_val_cnn = y_test_encoded"
   ]
  },
  {
   "cell_type": "code",
   "execution_count": 23,
   "id": "c517876f",
   "metadata": {},
   "outputs": [],
   "source": [
    "# Define the CNN model\n",
    "model = keras.Sequential([\n",
    "    layers.Conv2D(32, (3, 3), activation='relu', input_shape=(desired_height, desired_width, 1)),\n",
    "    layers.MaxPooling2D((2, 2)),\n",
    "    layers.Conv2D(64, (3, 3), activation='relu'),\n",
    "    layers.MaxPooling2D((2, 2)),\n",
    "    layers.Conv2D(128, (3, 3), activation='relu'),\n",
    "    layers.MaxPooling2D((2, 2)),\n",
    "    layers.Flatten(),\n",
    "    layers.Dense(512, activation='relu'),\n",
    "    layers.Dropout(0.5),\n",
    "    layers.Dense(len(np.unique(y)), activation='softmax')\n",
    "])\n"
   ]
  },
  {
   "cell_type": "code",
   "execution_count": 24,
   "id": "60adad28",
   "metadata": {},
   "outputs": [],
   "source": [
    "# Compile the model\n",
    "model.compile(optimizer='adam', loss='sparse_categorical_crossentropy', metrics=['accuracy'])\n",
    "\n",
    "# Early stopping callback to prevent overfitting\n",
    "early_stopping = EarlyStopping(monitor='val_loss', patience=3, restore_best_weights=True)\n"
   ]
  },
  {
   "cell_type": "code",
   "execution_count": 11,
   "id": "3b4bbce4",
   "metadata": {},
   "outputs": [
    {
     "name": "stdout",
     "output_type": "stream",
     "text": [
      "Epoch 1/20\n"
     ]
    },
    {
     "name": "stderr",
     "output_type": "stream",
     "text": [
      "2024-02-11 21:49:32.853903: W external/local_tsl/tsl/framework/cpu_allocator_impl.cc:83] Allocation of 30720000 exceeds 10% of free system memory.\n",
      "2024-02-11 21:49:33.793482: W external/local_tsl/tsl/framework/cpu_allocator_impl.cc:83] Allocation of 26214400 exceeds 10% of free system memory.\n"
     ]
    },
    {
     "name": "stdout",
     "output_type": "stream",
     "text": [
      "24/24 [==============================] - 14s 450ms/step - loss: 1.6042 - accuracy: 0.3854 - val_loss: 1.1034 - val_accuracy: 0.5781\n",
      "Epoch 2/20\n",
      "24/24 [==============================] - 12s 489ms/step - loss: 0.9032 - accuracy: 0.6706 - val_loss: 0.7188 - val_accuracy: 0.7656\n",
      "Epoch 3/20\n",
      "24/24 [==============================] - 11s 441ms/step - loss: 0.5708 - accuracy: 0.8112 - val_loss: 0.5547 - val_accuracy: 0.8021\n",
      "Epoch 4/20\n",
      "24/24 [==============================] - 13s 522ms/step - loss: 0.3986 - accuracy: 0.8620 - val_loss: 0.3427 - val_accuracy: 0.9115\n",
      "Epoch 5/20\n",
      "24/24 [==============================] - 12s 495ms/step - loss: 0.2381 - accuracy: 0.9310 - val_loss: 0.2801 - val_accuracy: 0.9062\n",
      "Epoch 6/20\n",
      "24/24 [==============================] - 12s 487ms/step - loss: 0.1467 - accuracy: 0.9557 - val_loss: 0.2311 - val_accuracy: 0.9323\n",
      "Epoch 7/20\n",
      "24/24 [==============================] - 12s 487ms/step - loss: 0.1114 - accuracy: 0.9635 - val_loss: 0.2239 - val_accuracy: 0.9583\n",
      "Epoch 8/20\n",
      "24/24 [==============================] - 11s 469ms/step - loss: 0.0480 - accuracy: 0.9883 - val_loss: 0.1811 - val_accuracy: 0.9479\n",
      "Epoch 9/20\n",
      "24/24 [==============================] - 10s 431ms/step - loss: 0.0590 - accuracy: 0.9779 - val_loss: 0.1675 - val_accuracy: 0.9427\n",
      "Epoch 10/20\n",
      "24/24 [==============================] - 10s 436ms/step - loss: 0.0501 - accuracy: 0.9857 - val_loss: 0.1470 - val_accuracy: 0.9583\n",
      "Epoch 11/20\n",
      "24/24 [==============================] - 12s 484ms/step - loss: 0.0274 - accuracy: 0.9909 - val_loss: 0.1805 - val_accuracy: 0.9583\n",
      "Epoch 12/20\n",
      "24/24 [==============================] - 14s 591ms/step - loss: 0.0104 - accuracy: 0.9987 - val_loss: 0.1648 - val_accuracy: 0.9583\n",
      "Epoch 13/20\n",
      "24/24 [==============================] - 10s 413ms/step - loss: 0.0046 - accuracy: 1.0000 - val_loss: 0.1690 - val_accuracy: 0.9583\n"
     ]
    }
   ],
   "source": [
    "# Train the CNN model\n",
    "history = model.fit(X_train_cnn, y_train_cnn, epochs=20, validation_data=(X_val_cnn, y_val_cnn), callbacks=[early_stopping])"
   ]
  },
  {
   "cell_type": "code",
   "execution_count": 25,
   "id": "beb01ed2",
   "metadata": {},
   "outputs": [
    {
     "name": "stdout",
     "output_type": "stream",
     "text": [
      "Epoch 1/20\n",
      "12/12 [==============================] - 8s 579ms/step - loss: 1.7729 - accuracy: 0.2005 - val_loss: 1.6388 - val_accuracy: 0.4479\n",
      "Epoch 2/20\n",
      "12/12 [==============================] - 6s 481ms/step - loss: 1.4143 - accuracy: 0.5156 - val_loss: 1.2344 - val_accuracy: 0.4896\n",
      "Epoch 3/20\n",
      "12/12 [==============================] - 5s 449ms/step - loss: 1.0305 - accuracy: 0.6068 - val_loss: 0.8402 - val_accuracy: 0.7083\n",
      "Epoch 4/20\n",
      "12/12 [==============================] - 6s 505ms/step - loss: 0.7974 - accuracy: 0.7188 - val_loss: 0.7222 - val_accuracy: 0.7604\n",
      "Epoch 5/20\n",
      "12/12 [==============================] - 6s 488ms/step - loss: 0.5596 - accuracy: 0.8099 - val_loss: 0.8829 - val_accuracy: 0.7500\n",
      "Epoch 6/20\n",
      "12/12 [==============================] - 7s 544ms/step - loss: 0.4257 - accuracy: 0.8385 - val_loss: 0.7003 - val_accuracy: 0.7604\n",
      "Epoch 7/20\n",
      "12/12 [==============================] - 11s 914ms/step - loss: 0.3262 - accuracy: 0.8932 - val_loss: 0.7259 - val_accuracy: 0.7396\n",
      "Epoch 8/20\n",
      "12/12 [==============================] - 5s 411ms/step - loss: 0.2848 - accuracy: 0.9036 - val_loss: 0.6747 - val_accuracy: 0.7917\n",
      "Epoch 9/20\n",
      "12/12 [==============================] - 5s 406ms/step - loss: 0.1814 - accuracy: 0.9427 - val_loss: 0.7282 - val_accuracy: 0.8021\n",
      "Epoch 10/20\n",
      "12/12 [==============================] - 8s 667ms/step - loss: 0.1372 - accuracy: 0.9479 - val_loss: 0.7839 - val_accuracy: 0.7708\n",
      "Epoch 11/20\n",
      "12/12 [==============================] - 6s 482ms/step - loss: 0.1264 - accuracy: 0.9583 - val_loss: 0.9255 - val_accuracy: 0.7812\n",
      "done in 82.915s\n"
     ]
    }
   ],
   "source": [
    "t0 = time()\n",
    "training = model.fit(X_train_cnn, y_train_cnn, epochs=20, validation_data=(X_val_cnn, y_val_cnn), callbacks=[early_stopping])\n",
    "print(\"done in %0.3fs\" % (time() - t0))"
   ]
  },
  {
   "cell_type": "code",
   "execution_count": 13,
   "id": "0e81757a",
   "metadata": {},
   "outputs": [
    {
     "name": "stdout",
     "output_type": "stream",
     "text": [
      "6/6 [==============================] - 1s 145ms/step - loss: 0.1561 - accuracy: 0.9531\n",
      "Test Accuracy (CNN): 0.95\n",
      "Time taken: 1.4085814952850342 seconds\n"
     ]
    }
   ],
   "source": [
    "t0 = time()\n",
    "test_loss, test_accuracy = model.evaluate(X_test_normalized, y_test_encoded)\n",
    "t1 = time()\n",
    "\n",
    "print(f'Test Accuracy (CNN): {test_accuracy:.2f}')\n",
    "print(f\"Time taken: {t1-t0} seconds\")"
   ]
  },
  {
   "cell_type": "code",
   "execution_count": 14,
   "id": "8674c817",
   "metadata": {},
   "outputs": [
    {
     "name": "stdout",
     "output_type": "stream",
     "text": [
      "6/6 [==============================] - 1s 127ms/step\n",
      "done in 1.543s\n"
     ]
    }
   ],
   "source": [
    "t0 = time()\n",
    "y_pred_cnn_probs = model.predict(X_test_normalized)\n",
    "print(\"done in %0.3fs\" % (time() - t0))"
   ]
  },
  {
   "cell_type": "code",
   "execution_count": 15,
   "id": "0eb57288",
   "metadata": {},
   "outputs": [],
   "source": [
    "# Convert probabilities to class predictions\n",
    "y_pred_cnn = np.argmax(y_pred_cnn_probs, axis=1)\n",
    "\n",
    "# Decode numerical predictions back to original labels\n",
    "y_pred_cnn_labels = label_encoder.inverse_transform(y_pred_cnn)"
   ]
  },
  {
   "cell_type": "code",
   "execution_count": 16,
   "id": "2dd38110",
   "metadata": {
    "scrolled": false
   },
   "outputs": [
    {
     "name": "stdout",
     "output_type": "stream",
     "text": [
      "Classification Report (CNN):\n",
      "              precision    recall  f1-score   support\n",
      "\n",
      "   adityaroy       1.00      1.00      1.00        37\n",
      "        bald       0.97      0.88      0.92        33\n",
      "   devillers       1.00      0.97      0.98        31\n",
      "        modi       0.93      0.87      0.90        30\n",
      "        rock       0.82      1.00      0.90        28\n",
      "     ronaldo       1.00      1.00      1.00        33\n",
      "\n",
      "    accuracy                           0.95       192\n",
      "   macro avg       0.95      0.95      0.95       192\n",
      "weighted avg       0.96      0.95      0.95       192\n",
      "\n",
      "Confusion Matrix (CNN):\n",
      "[[37  0  0  0  0  0]\n",
      " [ 0 29  0  2  2  0]\n",
      " [ 0  1 30  0  0  0]\n",
      " [ 0  0  0 26  4  0]\n",
      " [ 0  0  0  0 28  0]\n",
      " [ 0  0  0  0  0 33]]\n",
      "Accuracy (CNN): 0.95\n",
      "Precision (CNN): 0.96\n",
      "Recall (CNN): 0.95\n",
      "F1 Score (CNN): 0.95\n"
     ]
    }
   ],
   "source": [
    "# Print classification report for CNN\n",
    "print(\"Classification Report (CNN):\")\n",
    "print(classification_report(y_test, y_pred_cnn_labels, target_names=np.unique(y)))\n",
    "\n",
    "# Print confusion matrix for CNN\n",
    "conf_matrix_cnn = confusion_matrix(y_test, y_pred_cnn_labels, labels=np.unique(y))\n",
    "print(\"Confusion Matrix (CNN):\")\n",
    "print(conf_matrix_cnn)\n",
    "\n",
    "# Calculate and print accuracy, precision, recall, and F1-score for CNN\n",
    "accuracy_cnn = accuracy_score(y_test, y_pred_cnn_labels)\n",
    "precision_cnn = precision_score(y_test, y_pred_cnn_labels, average='weighted')\n",
    "recall_cnn = recall_score(y_test, y_pred_cnn_labels, average='weighted')\n",
    "f1_cnn = f1_score(y_test, y_pred_cnn_labels, average='weighted')\n",
    "\n",
    "print(f\"Accuracy (CNN): {accuracy_cnn:.2f}\")\n",
    "print(f\"Precision (CNN): {precision_cnn:.2f}\")\n",
    "print(f\"Recall (CNN): {recall_cnn:.2f}\")\n",
    "print(f\"F1 Score (CNN): {f1_cnn:.2f}\")"
   ]
  },
  {
   "cell_type": "code",
   "execution_count": null,
   "id": "86dd5e7d",
   "metadata": {},
   "outputs": [],
   "source": []
  }
 ],
 "metadata": {
  "kernelspec": {
   "display_name": "Python 3 (ipykernel)",
   "language": "python",
   "name": "python3"
  },
  "language_info": {
   "codemirror_mode": {
    "name": "ipython",
    "version": 3
   },
   "file_extension": ".py",
   "mimetype": "text/x-python",
   "name": "python",
   "nbconvert_exporter": "python",
   "pygments_lexer": "ipython3",
   "version": "3.11.2"
  }
 },
 "nbformat": 4,
 "nbformat_minor": 5
}
